{
 "cells": [
  {
   "cell_type": "code",
   "execution_count": 2,
   "metadata": {},
   "outputs": [
    {
     "name": "stdout",
     "output_type": "stream",
     "text": [
      "[1 2 3]\n"
     ]
    }
   ],
   "source": [
    "import numpy as np\n",
    "x = np.array([\n",
    "    [1, 1, 1],\n",
    "    [2, 2, 2],\n",
    "    [3, 3, 3]\n",
    "])\n",
    "\n",
    "a, b, c = x\n",
    "\n",
    "print(np.max(x, axis=1))"
   ]
  },
  {
   "cell_type": "code",
   "execution_count": 6,
   "metadata": {},
   "outputs": [
    {
     "name": "stdout",
     "output_type": "stream",
     "text": [
      "[0.86673974 0.98686585]\n"
     ]
    }
   ],
   "source": [
    "from scipy import stats\n",
    "\n",
    "std = 0.9\n",
    "z_diff = np.array([1, 2])\n",
    "P = stats.norm.cdf(z_diff/std)\n",
    "print(P)\n"
   ]
  },
  {
   "cell_type": "code",
   "execution_count": 16,
   "metadata": {},
   "outputs": [
    {
     "name": "stdout",
     "output_type": "stream",
     "text": [
      "[[-2.  1.]\n",
      " [ 4.  9.]\n",
      " [11. 13.]\n",
      " [17. 20.]]\n",
      "ZS:  [ 2.28406281  9.59047429 17.04448343 26.30041825]\n",
      "(5000,)\n",
      "2.284062810767359\n",
      "(5000,)\n",
      "9.590474294454772\n",
      "(5000,)\n",
      "17.04448342716607\n",
      "(5000,)\n",
      "26.300418245238518\n"
     ]
    },
    {
     "ename": "NameError",
     "evalue": "name 'mu' is not defined",
     "output_type": "error",
     "traceback": [
      "\u001b[1;31m---------------------------------------------------------------------------\u001b[0m",
      "\u001b[1;31mNameError\u001b[0m                                 Traceback (most recent call last)",
      "Cell \u001b[1;32mIn[16], line 141\u001b[0m\n\u001b[0;32m    139\u001b[0m     plt\u001b[38;5;241m.\u001b[39mshow()\n\u001b[0;32m    140\u001b[0m seed(\u001b[38;5;241m2\u001b[39m) \n\u001b[1;32m--> 141\u001b[0m \u001b[43mrun_pf1\u001b[49m\u001b[43m(\u001b[49m\u001b[43mN\u001b[49m\u001b[38;5;241;43m=\u001b[39;49m\u001b[38;5;241;43m5000\u001b[39;49m\u001b[43m,\u001b[49m\u001b[43m \u001b[49m\u001b[43mplot_particles\u001b[49m\u001b[38;5;241;43m=\u001b[39;49m\u001b[38;5;28;43;01mFalse\u001b[39;49;00m\u001b[43m)\u001b[49m\n",
      "Cell \u001b[1;32mIn[16], line 131\u001b[0m, in \u001b[0;36mrun_pf1\u001b[1;34m(N, iters, sensor_std_err, do_plot, plot_particles, xlim, ylim, initial_x)\u001b[0m\n\u001b[0;32m    127\u001b[0m         plt\u001b[38;5;241m.\u001b[39mscatter(particles[:, \u001b[38;5;241m0\u001b[39m], particles[:, \u001b[38;5;241m1\u001b[39m], \n\u001b[0;32m    128\u001b[0m                     color\u001b[38;5;241m=\u001b[39m\u001b[38;5;124m'\u001b[39m\u001b[38;5;124mk\u001b[39m\u001b[38;5;124m'\u001b[39m, marker\u001b[38;5;241m=\u001b[39m\u001b[38;5;124m'\u001b[39m\u001b[38;5;124m,\u001b[39m\u001b[38;5;124m'\u001b[39m, s\u001b[38;5;241m=\u001b[39m\u001b[38;5;241m1\u001b[39m)\n\u001b[0;32m    129\u001b[0m     p1 \u001b[38;5;241m=\u001b[39m plt\u001b[38;5;241m.\u001b[39mscatter(robot_pos[\u001b[38;5;241m0\u001b[39m], robot_pos[\u001b[38;5;241m1\u001b[39m], marker\u001b[38;5;241m=\u001b[39m\u001b[38;5;124m'\u001b[39m\u001b[38;5;124m+\u001b[39m\u001b[38;5;124m'\u001b[39m,\n\u001b[0;32m    130\u001b[0m                      color\u001b[38;5;241m=\u001b[39m\u001b[38;5;124m'\u001b[39m\u001b[38;5;124mk\u001b[39m\u001b[38;5;124m'\u001b[39m, s\u001b[38;5;241m=\u001b[39m\u001b[38;5;241m180\u001b[39m, lw\u001b[38;5;241m=\u001b[39m\u001b[38;5;241m3\u001b[39m)\n\u001b[1;32m--> 131\u001b[0m     p2 \u001b[38;5;241m=\u001b[39m plt\u001b[38;5;241m.\u001b[39mscatter(\u001b[43mmu\u001b[49m[\u001b[38;5;241m0\u001b[39m], mu[\u001b[38;5;241m1\u001b[39m], marker\u001b[38;5;241m=\u001b[39m\u001b[38;5;124m'\u001b[39m\u001b[38;5;124ms\u001b[39m\u001b[38;5;124m'\u001b[39m, color\u001b[38;5;241m=\u001b[39m\u001b[38;5;124m'\u001b[39m\u001b[38;5;124mr\u001b[39m\u001b[38;5;124m'\u001b[39m)\n\u001b[0;32m    133\u001b[0m xs \u001b[38;5;241m=\u001b[39m np\u001b[38;5;241m.\u001b[39marray(xs)\n\u001b[0;32m    134\u001b[0m \u001b[38;5;66;03m#plt.plot(xs[:, 0], xs[:, 1])\u001b[39;00m\n",
      "\u001b[1;31mNameError\u001b[0m: name 'mu' is not defined"
     ]
    },
    {
     "data": {
      "image/png": "[encoded data removed]",
      "text/plain": [
       "<Figure size 640x480 with 1 Axes>"
      ]
     },
     "metadata": {},
     "output_type": "display_data"
    }
   ],
   "source": [
    "from numpy.random import uniform  \n",
    "from numpy.linalg import norm\n",
    "from numpy.random import randn\n",
    "import scipy.stats\n",
    "from numpy.random import seed\n",
    "import matplotlib.pyplot as plt\n",
    "\n",
    "def create_uniform_particles(x_range, y_range, hdg_range, N):\n",
    "    particles = np.empty((N, 3))\n",
    "    particles[:, 0] = uniform(x_range[0], x_range[1], size=N)\n",
    "    particles[:, 1] = uniform(y_range[0], y_range[1], size=N)\n",
    "    particles[:, 2] = uniform(hdg_range[0], hdg_range[1], size=N)\n",
    "    particles[:, 2] %= 2 * np.pi\n",
    "    return particles\n",
    "\n",
    "def create_gaussian_particles(mean, std, N):\n",
    "    particles = np.empty((N, 3))\n",
    "    particles[:, 0] = mean[0] + (randn(N) * std[0])\n",
    "    particles[:, 1] = mean[1] + (randn(N) * std[1])\n",
    "    particles[:, 2] = mean[2] + (randn(N) * std[2])\n",
    "    particles[:, 2] %= 2 * np.pi\n",
    "    return particles\n",
    "\n",
    "\n",
    "def predict(particles, u, std, dt=1.):\n",
    "    \"\"\" move according to control input u (heading change, velocity)\n",
    "    with noise Q (std heading change, std velocity)`\"\"\"\n",
    "\n",
    "    N = len(particles)\n",
    "    # update heading\n",
    "    particles[:, 2] += u[0] + (randn(N) * std[0])\n",
    "    particles[:, 2] %= 2 * np.pi\n",
    "\n",
    "    # move in the (noisy) commanded direction\n",
    "    dist = (u[1] * dt) + (randn(N) * std[1])\n",
    "    particles[:, 0] += np.cos(particles[:, 2]) * dist\n",
    "    particles[:, 1] += np.sin(particles[:, 2]) * dist\n",
    "    \n",
    "def update(particles, weights, z, R, landmarks):\n",
    "    for i, landmark in enumerate(landmarks):\n",
    "        distance = np.linalg.norm(particles[:, 0:2] - landmark, axis=1)\n",
    "        weights *= scipy.stats.norm(distance, R).pdf(z[i])\n",
    "\n",
    "    weights += 1.e-300      # avoid round-off to zero\n",
    "    weights /= sum(weights) # normalize\n",
    "    \n",
    "def estimate(particles, weights):\n",
    "    \"\"\"returns mean and variance of the weighted particles\"\"\"\n",
    "\n",
    "    pos = particles[:, 0:2]\n",
    "    mean = np.average(pos, weights=weights, axis=0)\n",
    "    var  = np.average((pos - mean)**2, weights=weights, axis=0)\n",
    "    return mean, var\n",
    "\n",
    "def simple_resample(particles, weights):\n",
    "    N = len(particles)\n",
    "    cumulative_sum = np.cumsum(weights)\n",
    "    cumulative_sum[-1] = 1. # avoid round-off error\n",
    "    indexes = np.searchsorted(cumulative_sum, random(N))\n",
    "\n",
    "    # resample according to indexes\n",
    "    particles[:] = particles[indexes]\n",
    "    weights.fill(1.0 / N)\n",
    "    \n",
    "\n",
    "def neff(weights):\n",
    "    return 1. / np.sum(np.square(weights))\n",
    "\n",
    "def resample_from_index(particles, weights, indexes):\n",
    "    particles[:] = particles[indexes]\n",
    "    weights.resize(len(particles))\n",
    "    weights.fill (1.0 / len(weights))\n",
    "\n",
    "def run_pf1(N, iters=18, sensor_std_err=.1, \n",
    "            do_plot=True, plot_particles=False,\n",
    "            xlim=(0, 20), ylim=(0, 20),\n",
    "            initial_x=None):\n",
    "    landmarks = np.array([[-1, 2], [5, 10], [12,14], [18,21]])\n",
    "    NL = len(landmarks)\n",
    "    \n",
    "    plt.figure()\n",
    "   \n",
    "    # create particles and weights\n",
    "    if initial_x is not None:\n",
    "        particles = create_gaussian_particles(\n",
    "            mean=initial_x, std=(5, 5, np.pi/4), N=N)\n",
    "    else:\n",
    "        particles = create_uniform_particles((0,20), (0,20), (0, 6.28), N)\n",
    "    weights = np.ones(N) / N\n",
    "\n",
    "    if plot_particles:\n",
    "        alpha = .20\n",
    "        if N > 5000:\n",
    "            alpha *= np.sqrt(5000)/np.sqrt(N)           \n",
    "        plt.scatter(particles[:, 0], particles[:, 1], \n",
    "                    alpha=alpha, color='g')\n",
    "    \n",
    "    xs = []\n",
    "    robot_pos = np.array([0., 0.])\n",
    "    for x in range(iters):\n",
    "        robot_pos += (1, 1)\n",
    "\n",
    "        # distance from robot to each landmark\n",
    "        print(landmarks - robot_pos)\n",
    "        zs = (norm(landmarks - robot_pos, axis=1) + \n",
    "              (randn(NL) * sensor_std_err))\n",
    "        print(\"ZS: \",zs)\n",
    "\n",
    "        # move diagonally forward to (x+1, x+1)\n",
    "        predict(particles, u=(0.00, 1.414), std=(.2, .05))\n",
    "        \n",
    "        # incorporate measurements\n",
    "        update(particles, weights, z=zs, R=sensor_std_err, \n",
    "               landmarks=landmarks)\n",
    "        \n",
    "        # resample if too few effective particles\n",
    "        if neff(weights) < N/2:\n",
    "            indexes = systematic_resample(weights)\n",
    "            resample_from_index(particles, weights, indexes)\n",
    "            assert np.allclose(weights, 1/N)\n",
    "        mu, var = estimate(particles, weights)\n",
    "        xs.append(mu)\n",
    "\n",
    "        if plot_particles:\n",
    "            plt.scatter(particles[:, 0], particles[:, 1], \n",
    "                        color='k', marker=',', s=1)\n",
    "        p1 = plt.scatter(robot_pos[0], robot_pos[1], marker='+',\n",
    "                         color='k', s=180, lw=3)\n",
    "        p2 = plt.scatter(mu[0], mu[1], marker='s', color='r')\n",
    "    \n",
    "    xs = np.array(xs)\n",
    "    #plt.plot(xs[:, 0], xs[:, 1])\n",
    "    plt.legend([p1, p2], ['Actual', 'PF'], loc=4, numpoints=1)\n",
    "    plt.xlim(*xlim)\n",
    "    plt.ylim(*ylim)\n",
    "    print('final position error, variance:\\n\\t', mu - np.array([iters, iters]), var)\n",
    "    plt.show()\n",
    "seed(2) \n",
    "run_pf1(N=5000, plot_particles=False)"
   ]
  }
 ],
 "metadata": {
  "kernelspec": {
   "display_name": "me231b",
   "language": "python",
   "name": "python3"
  },
  "language_info": {
   "codemirror_mode": {
    "name": "ipython",
    "version": 3
   },
   "file_extension": ".py",
   "mimetype": "text/x-python",
   "name": "python",
   "nbconvert_exporter": "python",
   "pygments_lexer": "ipython3",
   "version": "3.12.1"
  }
 },
 "nbformat": 4,
 "nbformat_minor": 2
}
